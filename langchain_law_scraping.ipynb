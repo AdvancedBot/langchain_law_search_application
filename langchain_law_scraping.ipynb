{
  "cells": [
    {
      "cell_type": "markdown",
      "metadata": {
        "id": "L0iZ2DxzSte7"
      },
      "source": [
        "# 安装必要包"
      ]
    },
    {
      "cell_type": "code",
      "execution_count": 1,
      "metadata": {
        "colab": {
          "base_uri": "https://localhost:8080/"
        },
        "id": "LZZJG2qD9Y9e",
        "outputId": "c755d0de-183d-4926-d1c4-f3f23549933d"
      },
      "outputs": [
        {
          "name": "stdout",
          "output_type": "stream",
          "text": [
            "Requirement already satisfied: langchain in /usr/local/lib/python3.10/dist-packages (0.0.336)\n",
            "Requirement already satisfied: PyYAML>=5.3 in /usr/local/lib/python3.10/dist-packages (from langchain) (6.0.1)\n",
            "Requirement already satisfied: SQLAlchemy<3,>=1.4 in /usr/local/lib/python3.10/dist-packages (from langchain) (2.0.23)\n",
            "Requirement already satisfied: aiohttp<4.0.0,>=3.8.3 in /usr/local/lib/python3.10/dist-packages (from langchain) (3.8.6)\n",
            "Requirement already satisfied: anyio<4.0 in /usr/local/lib/python3.10/dist-packages (from langchain) (3.7.1)\n",
            "Requirement already satisfied: async-timeout<5.0.0,>=4.0.0 in /usr/local/lib/python3.10/dist-packages (from langchain) (4.0.3)\n",
            "Requirement already satisfied: dataclasses-json<0.7,>=0.5.7 in /usr/local/lib/python3.10/dist-packages (from langchain) (0.6.2)\n",
            "Requirement already satisfied: jsonpatch<2.0,>=1.33 in /usr/local/lib/python3.10/dist-packages (from langchain) (1.33)\n",
            "Requirement already satisfied: langsmith<0.1.0,>=0.0.63 in /usr/local/lib/python3.10/dist-packages (from langchain) (0.0.64)\n",
            "Requirement already satisfied: numpy<2,>=1 in /usr/local/lib/python3.10/dist-packages (from langchain) (1.23.5)\n",
            "Requirement already satisfied: pydantic<3,>=1 in /usr/local/lib/python3.10/dist-packages (from langchain) (1.10.13)\n",
            "Requirement already satisfied: requests<3,>=2 in /usr/local/lib/python3.10/dist-packages (from langchain) (2.31.0)\n",
            "Requirement already satisfied: tenacity<9.0.0,>=8.1.0 in /usr/local/lib/python3.10/dist-packages (from langchain) (8.2.3)\n",
            "Requirement already satisfied: attrs>=17.3.0 in /usr/local/lib/python3.10/dist-packages (from aiohttp<4.0.0,>=3.8.3->langchain) (23.1.0)\n",
            "Requirement already satisfied: charset-normalizer<4.0,>=2.0 in /usr/local/lib/python3.10/dist-packages (from aiohttp<4.0.0,>=3.8.3->langchain) (3.3.2)\n",
            "Requirement already satisfied: multidict<7.0,>=4.5 in /usr/local/lib/python3.10/dist-packages (from aiohttp<4.0.0,>=3.8.3->langchain) (6.0.4)\n",
            "Requirement already satisfied: yarl<2.0,>=1.0 in /usr/local/lib/python3.10/dist-packages (from aiohttp<4.0.0,>=3.8.3->langchain) (1.9.2)\n",
            "Requirement already satisfied: frozenlist>=1.1.1 in /usr/local/lib/python3.10/dist-packages (from aiohttp<4.0.0,>=3.8.3->langchain) (1.4.0)\n",
            "Requirement already satisfied: aiosignal>=1.1.2 in /usr/local/lib/python3.10/dist-packages (from aiohttp<4.0.0,>=3.8.3->langchain) (1.3.1)\n",
            "Requirement already satisfied: idna>=2.8 in /usr/local/lib/python3.10/dist-packages (from anyio<4.0->langchain) (3.4)\n",
            "Requirement already satisfied: sniffio>=1.1 in /usr/local/lib/python3.10/dist-packages (from anyio<4.0->langchain) (1.3.0)\n",
            "Requirement already satisfied: exceptiongroup in /usr/local/lib/python3.10/dist-packages (from anyio<4.0->langchain) (1.1.3)\n",
            "Requirement already satisfied: marshmallow<4.0.0,>=3.18.0 in /usr/local/lib/python3.10/dist-packages (from dataclasses-json<0.7,>=0.5.7->langchain) (3.20.1)\n",
            "Requirement already satisfied: typing-inspect<1,>=0.4.0 in /usr/local/lib/python3.10/dist-packages (from dataclasses-json<0.7,>=0.5.7->langchain) (0.9.0)\n",
            "Requirement already satisfied: jsonpointer>=1.9 in /usr/local/lib/python3.10/dist-packages (from jsonpatch<2.0,>=1.33->langchain) (2.4)\n",
            "Requirement already satisfied: typing-extensions>=4.2.0 in /usr/local/lib/python3.10/dist-packages (from pydantic<3,>=1->langchain) (4.5.0)\n",
            "Requirement already satisfied: urllib3<3,>=1.21.1 in /usr/local/lib/python3.10/dist-packages (from requests<3,>=2->langchain) (2.0.7)\n",
            "Requirement already satisfied: certifi>=2017.4.17 in /usr/local/lib/python3.10/dist-packages (from requests<3,>=2->langchain) (2023.7.22)\n",
            "Requirement already satisfied: greenlet!=0.4.17 in /usr/local/lib/python3.10/dist-packages (from SQLAlchemy<3,>=1.4->langchain) (3.0.1)\n",
            "Requirement already satisfied: packaging>=17.0 in /usr/local/lib/python3.10/dist-packages (from marshmallow<4.0.0,>=3.18.0->dataclasses-json<0.7,>=0.5.7->langchain) (23.2)\n",
            "Requirement already satisfied: mypy-extensions>=0.3.0 in /usr/local/lib/python3.10/dist-packages (from typing-inspect<1,>=0.4.0->dataclasses-json<0.7,>=0.5.7->langchain) (1.0.0)\n"
          ]
        }
      ],
      "source": [
        "pip install langchain"
      ]
    },
    {
      "cell_type": "code",
      "execution_count": 2,
      "metadata": {
        "colab": {
          "base_uri": "https://localhost:8080/"
        },
        "id": "qOTkSEYTBOA7",
        "outputId": "a4e23cc0-695c-4f7a-b3cb-e64f32c23e76"
      },
      "outputs": [
        {
          "name": "stdout",
          "output_type": "stream",
          "text": [
            "Requirement already satisfied: openai==0.28 in /usr/local/lib/python3.10/dist-packages (0.28.0)\n",
            "Requirement already satisfied: requests>=2.20 in /usr/local/lib/python3.10/dist-packages (from openai==0.28) (2.31.0)\n",
            "Requirement already satisfied: tqdm in /usr/local/lib/python3.10/dist-packages (from openai==0.28) (4.66.1)\n",
            "Requirement already satisfied: aiohttp in /usr/local/lib/python3.10/dist-packages (from openai==0.28) (3.8.6)\n",
            "Requirement already satisfied: charset-normalizer<4,>=2 in /usr/local/lib/python3.10/dist-packages (from requests>=2.20->openai==0.28) (3.3.2)\n",
            "Requirement already satisfied: idna<4,>=2.5 in /usr/local/lib/python3.10/dist-packages (from requests>=2.20->openai==0.28) (3.4)\n",
            "Requirement already satisfied: urllib3<3,>=1.21.1 in /usr/local/lib/python3.10/dist-packages (from requests>=2.20->openai==0.28) (2.0.7)\n",
            "Requirement already satisfied: certifi>=2017.4.17 in /usr/local/lib/python3.10/dist-packages (from requests>=2.20->openai==0.28) (2023.7.22)\n",
            "Requirement already satisfied: attrs>=17.3.0 in /usr/local/lib/python3.10/dist-packages (from aiohttp->openai==0.28) (23.1.0)\n",
            "Requirement already satisfied: multidict<7.0,>=4.5 in /usr/local/lib/python3.10/dist-packages (from aiohttp->openai==0.28) (6.0.4)\n",
            "Requirement already satisfied: async-timeout<5.0,>=4.0.0a3 in /usr/local/lib/python3.10/dist-packages (from aiohttp->openai==0.28) (4.0.3)\n",
            "Requirement already satisfied: yarl<2.0,>=1.0 in /usr/local/lib/python3.10/dist-packages (from aiohttp->openai==0.28) (1.9.2)\n",
            "Requirement already satisfied: frozenlist>=1.1.1 in /usr/local/lib/python3.10/dist-packages (from aiohttp->openai==0.28) (1.4.0)\n",
            "Requirement already satisfied: aiosignal>=1.1.2 in /usr/local/lib/python3.10/dist-packages (from aiohttp->openai==0.28) (1.3.1)\n"
          ]
        }
      ],
      "source": [
        "pip install openai==0.28"
      ]
    },
    {
      "cell_type": "code",
      "execution_count": 3,
      "metadata": {
        "colab": {
          "base_uri": "https://localhost:8080/"
        },
        "id": "GmPLlyhqTVyz",
        "outputId": "50cbbf8d-04ab-47fd-b140-b6c531710653"
      },
      "outputs": [
        {
          "name": "stdout",
          "output_type": "stream",
          "text": [
            "Requirement already satisfied: webdriver_manager in /usr/local/lib/python3.10/dist-packages (4.0.1)\n",
            "Requirement already satisfied: requests in /usr/local/lib/python3.10/dist-packages (from webdriver_manager) (2.31.0)\n",
            "Requirement already satisfied: python-dotenv in /usr/local/lib/python3.10/dist-packages (from webdriver_manager) (1.0.0)\n",
            "Requirement already satisfied: packaging in /usr/local/lib/python3.10/dist-packages (from webdriver_manager) (23.2)\n",
            "Requirement already satisfied: charset-normalizer<4,>=2 in /usr/local/lib/python3.10/dist-packages (from requests->webdriver_manager) (3.3.2)\n",
            "Requirement already satisfied: idna<4,>=2.5 in /usr/local/lib/python3.10/dist-packages (from requests->webdriver_manager) (3.4)\n",
            "Requirement already satisfied: urllib3<3,>=1.21.1 in /usr/local/lib/python3.10/dist-packages (from requests->webdriver_manager) (2.0.7)\n",
            "Requirement already satisfied: certifi>=2017.4.17 in /usr/local/lib/python3.10/dist-packages (from requests->webdriver_manager) (2023.7.22)\n"
          ]
        }
      ],
      "source": [
        "pip install webdriver_manager"
      ]
    },
    {
      "cell_type": "code",
      "execution_count": 4,
      "metadata": {
        "colab": {
          "base_uri": "https://localhost:8080/"
        },
        "id": "KQ4UwCcbSoks",
        "outputId": "b4c14876-efb1-4fe5-f171-baebccbba7a1"
      },
      "outputs": [
        {
          "name": "stdout",
          "output_type": "stream",
          "text": [
            "Requirement already satisfied: selenium in /usr/local/lib/python3.10/dist-packages (4.15.2)\n",
            "Requirement already satisfied: urllib3[socks]<3,>=1.26 in /usr/local/lib/python3.10/dist-packages (from selenium) (2.0.7)\n",
            "Requirement already satisfied: trio~=0.17 in /usr/local/lib/python3.10/dist-packages (from selenium) (0.23.1)\n",
            "Requirement already satisfied: trio-websocket~=0.9 in /usr/local/lib/python3.10/dist-packages (from selenium) (0.11.1)\n",
            "Requirement already satisfied: certifi>=2021.10.8 in /usr/local/lib/python3.10/dist-packages (from selenium) (2023.7.22)\n",
            "Requirement already satisfied: attrs>=20.1.0 in /usr/local/lib/python3.10/dist-packages (from trio~=0.17->selenium) (23.1.0)\n",
            "Requirement already satisfied: sortedcontainers in /usr/local/lib/python3.10/dist-packages (from trio~=0.17->selenium) (2.4.0)\n",
            "Requirement already satisfied: idna in /usr/local/lib/python3.10/dist-packages (from trio~=0.17->selenium) (3.4)\n",
            "Requirement already satisfied: outcome in /usr/local/lib/python3.10/dist-packages (from trio~=0.17->selenium) (1.3.0.post0)\n",
            "Requirement already satisfied: sniffio>=1.3.0 in /usr/local/lib/python3.10/dist-packages (from trio~=0.17->selenium) (1.3.0)\n",
            "Requirement already satisfied: exceptiongroup>=1.0.0rc9 in /usr/local/lib/python3.10/dist-packages (from trio~=0.17->selenium) (1.1.3)\n",
            "Requirement already satisfied: wsproto>=0.14 in /usr/local/lib/python3.10/dist-packages (from trio-websocket~=0.9->selenium) (1.2.0)\n",
            "Requirement already satisfied: pysocks!=1.5.7,<2.0,>=1.5.6 in /usr/local/lib/python3.10/dist-packages (from urllib3[socks]<3,>=1.26->selenium) (1.7.1)\n",
            "Requirement already satisfied: h11<1,>=0.9.0 in /usr/local/lib/python3.10/dist-packages (from wsproto>=0.14->trio-websocket~=0.9->selenium) (0.14.0)\n"
          ]
        }
      ],
      "source": [
        "pip install selenium"
      ]
    },
    {
      "cell_type": "markdown",
      "metadata": {
        "id": "3wl5aCrYSyXq"
      },
      "source": [
        "# 导入所有需要的内容"
      ]
    },
    {
      "cell_type": "code",
      "execution_count": 5,
      "metadata": {
        "id": "nsUmtWSj9bwh"
      },
      "outputs": [],
      "source": [
        "import openai\n",
        "import os\n",
        "from langchain.chat_models import ChatOpenAI\n",
        "from selenium import webdriver\n",
        "from selenium.webdriver.common.by import By\n",
        "from selenium.webdriver.common.keys import Keys\n",
        "from selenium.webdriver.chrome.service import Service\n",
        "from webdriver_manager.chrome import ChromeDriverManager\n",
        "import time\n",
        "from langchain.prompts.few_shot import FewShotPromptTemplate\n",
        "from langchain.prompts.prompt import PromptTemplate\n",
        "from selenium.webdriver.common.by import By\n",
        "from selenium.webdriver.support.ui import WebDriverWait\n",
        "from selenium.webdriver.support import expected_conditions as EC\n",
        "from selenium.common.exceptions import TimeoutException\n",
        "from selenium import webdriver\n",
        "from selenium.common.exceptions import NoSuchElementException\n",
        "from selenium.webdriver.common.by import By"
      ]
    },
    {
      "cell_type": "markdown",
      "metadata": {
        "id": "g--v2jxg_a47"
      },
      "source": [
        "# for test"
      ]
    },
    {
      "cell_type": "code",
      "execution_count": 48,
      "metadata": {
        "id": "TNNcTpwB9mgG"
      },
      "outputs": [],
      "source": [
        "def get_completion(prompt, model = \"gpt-4\"):\n",
        "    messages = [{\"role\": \"user\", \"content\":prompt}]\n",
        "    response = openai.ChatCompletion.create(\n",
        "        model = model,\n",
        "        messages = messages,\n",
        "        temperature = 0,\n",
        "    )\n",
        "    return response.choices[0].message[\"content\"]"
      ]
    },
    {
      "cell_type": "code",
      "execution_count": 49,
      "metadata": {
        "colab": {
          "base_uri": "https://localhost:8080/",
          "height": 35
        },
        "id": "IO2priUH9oYb",
        "outputId": "588a0f89-963b-4bcc-b7a3-e2555f4f47af"
      },
      "outputs": [
        {
          "data": {
            "application/vnd.google.colaboratory.intrinsic+json": {
              "type": "string"
            },
            "text/plain": [
              "'2'"
            ]
          },
          "execution_count": 49,
          "metadata": {},
          "output_type": "execute_result"
        }
      ],
      "source": [
        "get_completion(\"what is 1+1?\")"
      ]
    },
    {
      "cell_type": "markdown",
      "metadata": {
        "id": "XhyDDTM-D-Xc"
      },
      "source": [
        "# 用户需要输入的\n"
      ]
    },
    {
      "cell_type": "code",
      "execution_count": 27,
      "metadata": {
        "id": "DIh_BKDLEAyy"
      },
      "outputs": [],
      "source": [
        "## chatgpt4 key\n",
        "os.environ[\"OPENAI_API_KEY\"]=\"\"\n",
        "openai.api_key=\"\"\n",
        "\n",
        "## 威科先行的用户名和密码\n",
        "# wkxx_username = \"\"\n",
        "# wkxx_password = \"\"\n",
        "wkxx_username = \"\"\n",
        "wkxx_password = \"\"\n",
        "question = \"请问法律法规对于著作权侵权的赔偿标准的规定是什么？\""
      ]
    },
    {
      "cell_type": "markdown",
      "metadata": {
        "id": "Mv_mNSJ9EIVo"
      },
      "source": [
        "# langchain处理用户的输入"
      ]
    },
    {
      "cell_type": "code",
      "execution_count": 51,
      "metadata": {
        "colab": {
          "base_uri": "https://localhost:8080/",
          "height": 35
        },
        "id": "e0lBS_0X-zSq",
        "outputId": "bab1b66c-3690-441d-a12e-bf730adae6bd"
      },
      "outputs": [
        {
          "data": {
            "application/vnd.google.colaboratory.intrinsic+json": {
              "type": "string"
            },
            "text/plain": [
              "'gpt-4'"
            ]
          },
          "execution_count": 51,
          "metadata": {},
          "output_type": "execute_result"
        }
      ],
      "source": [
        "chat = ChatOpenAI(model_name='gpt-4', temperature = 0)\n",
        "chat.model_name"
      ]
    },
    {
      "cell_type": "code",
      "execution_count": 52,
      "metadata": {
        "id": "3QyRWoJZJjyD"
      },
      "outputs": [],
      "source": [
        "prefix = \"\"\"\n",
        "The main task is to extract the main keywords in the question and concatenate them using the appropriate Boolean operators,\n",
        "which I am asking you to do because I will be searching the database afterwards, and another important requirement is that the returned string should not be longer than 45.\n",
        "\"\"\"\n",
        "\n",
        "suffix = \"\"\"\n",
        "User: {query}\n",
        "AI: \"\"\"\n",
        "\n",
        "examples = [\n",
        "    {\n",
        "        \"query\":\"请问法律法规对于著作权侵权的赔偿标准的规定是什么？\",\n",
        "        \"answer\":\"著作权 AND 侵权 AND 赔偿标准\"\n",
        "    },{\n",
        "        \"query\":\"实操中上海著作权相关的案例中赔偿标准是如何界定的？\",\n",
        "        \"answer\":\"上海 AND 著作权 AND 案例 AND 赔偿标准\"\n",
        "    }\n",
        "]\n",
        "\n",
        "example_template = \"\"\"\n",
        "User:{query}\n",
        "AI:{answer}\n",
        "\"\"\"\n",
        "\n",
        "example_prompt = PromptTemplate(\n",
        "    input_variables = [\"query\", \"answer\"],\n",
        "    template = example_template\n",
        ")"
      ]
    },
    {
      "cell_type": "code",
      "execution_count": 53,
      "metadata": {
        "id": "aqlz0IwJMl7c"
      },
      "outputs": [],
      "source": [
        "# now create the few shot prompt template\n",
        "few_shot_prompt_template = FewShotPromptTemplate(\n",
        "    examples = examples,\n",
        "    example_prompt = example_prompt,\n",
        "    prefix = prefix,\n",
        "    suffix = suffix,\n",
        "    input_variables = [\"query\"],\n",
        "    example_separator = \"\\n\\n\"\n",
        ")"
      ]
    },
    {
      "cell_type": "code",
      "execution_count": 54,
      "metadata": {
        "colab": {
          "base_uri": "https://localhost:8080/"
        },
        "id": "vpF1yUb5Mr4t",
        "outputId": "b1895c72-7c1d-41d0-c9d3-531af1b5a9ae"
      },
      "outputs": [
        {
          "name": "stdout",
          "output_type": "stream",
          "text": [
            "\n",
            "The main task is to extract the main keywords in the question and concatenate them using the appropriate Boolean operators, \n",
            "which I am asking you to do because I will be searching the database afterwards, and another important requirement is that the returned string should not be longer than 45.\n",
            "\n",
            "\n",
            "\n",
            "User:请问法律法规对于著作权侵权的赔偿标准的规定是什么？\n",
            "AI:著作权 AND 侵权 AND 赔偿标准\n",
            "\n",
            "\n",
            "\n",
            "User:实操中上海著作权相关的案例中赔偿标准是如何界定的？\n",
            "AI:上海 AND 著作权 AND 案例 AND 赔偿标准\n",
            "\n",
            "\n",
            "\n",
            "User: 请问法律法规对于著作权侵权的赔偿标准的规定是什么？\n",
            "AI: \n"
          ]
        }
      ],
      "source": [
        "# query = \"请问北京的法律法规对著作权侵权的赔偿标准是什么\"\n",
        "whole = few_shot_prompt_template.format(query = question)\n",
        "print(whole)"
      ]
    },
    {
      "cell_type": "code",
      "execution_count": 55,
      "metadata": {
        "id": "ZKAqr3-COiQO"
      },
      "outputs": [],
      "source": [
        "## 处理后的结果\n",
        "asked_question = get_completion(whole)"
      ]
    },
    {
      "cell_type": "code",
      "execution_count": 56,
      "metadata": {
        "colab": {
          "base_uri": "https://localhost:8080/"
        },
        "id": "M2gDab28omeh",
        "outputId": "cdd2e1e6-e2fb-4b09-e5ca-17ddbed75f18"
      },
      "outputs": [
        {
          "name": "stdout",
          "output_type": "stream",
          "text": [
            "法律法规 AND 著作权 AND 侵权 AND 赔偿标准\n"
          ]
        }
      ],
      "source": [
        "print(asked_question)"
      ]
    },
    {
      "cell_type": "markdown",
      "metadata": {
        "id": "zCJkgYMtTGUY"
      },
      "source": [
        "# 爬虫"
      ]
    },
    {
      "cell_type": "code",
      "execution_count": 8,
      "metadata": {
        "colab": {
          "base_uri": "https://localhost:8080/"
        },
        "id": "8tUM-pR3cB4P",
        "outputId": "010a9f90-f444-40e0-8e29-1d1ae476fde1"
      },
      "outputs": [
        {
          "name": "stdout",
          "output_type": "stream",
          "text": [
            "Hit:1 https://cloud.r-project.org/bin/linux/ubuntu jammy-cran40/ InRelease\n",
            "Hit:2 https://developer.download.nvidia.com/compute/cuda/repos/ubuntu2204/x86_64  InRelease\n",
            "Get:3 http://security.ubuntu.com/ubuntu jammy-security InRelease [110 kB]\n",
            "Hit:4 http://archive.ubuntu.com/ubuntu jammy InRelease\n",
            "Get:5 http://archive.ubuntu.com/ubuntu jammy-updates InRelease [119 kB]\n",
            "Hit:6 https://ppa.launchpadcontent.net/c2d4u.team/c2d4u4.0+/ubuntu jammy InRelease\n",
            "Hit:7 https://ppa.launchpadcontent.net/deadsnakes/ppa/ubuntu jammy InRelease\n",
            "Hit:8 http://archive.ubuntu.com/ubuntu jammy-backports InRelease\n",
            "Hit:9 https://ppa.launchpadcontent.net/graphics-drivers/ppa/ubuntu jammy InRelease\n",
            "Hit:10 https://ppa.launchpadcontent.net/ubuntugis/ppa/ubuntu jammy InRelease\n",
            "Fetched 229 kB in 2s (151 kB/s)\n",
            "Reading package lists... Done\n",
            "Reading package lists... Done\n",
            "Building dependency tree... Done\n",
            "Reading state information... Done\n",
            "chromium-chromedriver is already the newest version (1:85.0.4183.83-0ubuntu2.22.04.1).\n",
            "0 upgraded, 0 newly installed, 0 to remove and 13 not upgraded.\n",
            "cp: '/usr/lib/chromium-browser/chromedriver' and '/usr/bin/chromedriver' are the same file\n",
            "Requirement already satisfied: selenium in /usr/local/lib/python3.10/dist-packages (4.15.2)\n",
            "Requirement already satisfied: urllib3[socks]<3,>=1.26 in /usr/local/lib/python3.10/dist-packages (from selenium) (2.0.7)\n",
            "Requirement already satisfied: trio~=0.17 in /usr/local/lib/python3.10/dist-packages (from selenium) (0.23.1)\n",
            "Requirement already satisfied: trio-websocket~=0.9 in /usr/local/lib/python3.10/dist-packages (from selenium) (0.11.1)\n",
            "Requirement already satisfied: certifi>=2021.10.8 in /usr/local/lib/python3.10/dist-packages (from selenium) (2023.7.22)\n",
            "Requirement already satisfied: attrs>=20.1.0 in /usr/local/lib/python3.10/dist-packages (from trio~=0.17->selenium) (23.1.0)\n",
            "Requirement already satisfied: sortedcontainers in /usr/local/lib/python3.10/dist-packages (from trio~=0.17->selenium) (2.4.0)\n",
            "Requirement already satisfied: idna in /usr/local/lib/python3.10/dist-packages (from trio~=0.17->selenium) (3.4)\n",
            "Requirement already satisfied: outcome in /usr/local/lib/python3.10/dist-packages (from trio~=0.17->selenium) (1.3.0.post0)\n",
            "Requirement already satisfied: sniffio>=1.3.0 in /usr/local/lib/python3.10/dist-packages (from trio~=0.17->selenium) (1.3.0)\n",
            "Requirement already satisfied: exceptiongroup>=1.0.0rc9 in /usr/local/lib/python3.10/dist-packages (from trio~=0.17->selenium) (1.1.3)\n",
            "Requirement already satisfied: wsproto>=0.14 in /usr/local/lib/python3.10/dist-packages (from trio-websocket~=0.9->selenium) (1.2.0)\n",
            "Requirement already satisfied: pysocks!=1.5.7,<2.0,>=1.5.6 in /usr/local/lib/python3.10/dist-packages (from urllib3[socks]<3,>=1.26->selenium) (1.7.1)\n",
            "Requirement already satisfied: h11<1,>=0.9.0 in /usr/local/lib/python3.10/dist-packages (from wsproto>=0.14->trio-websocket~=0.9->selenium) (0.14.0)\n"
          ]
        }
      ],
      "source": [
        "!apt-get update\n",
        "!apt install chromium-chromedriver\n",
        "!cp /usr/lib/chromium-browser/chromedriver /usr/bin\n",
        "!pip install selenium"
      ]
    },
    {
      "cell_type": "code",
      "execution_count": 33,
      "metadata": {
        "id": "ClEx4vSlcTw-"
      },
      "outputs": [],
      "source": [
        "from selenium import webdriver\n",
        "from selenium.webdriver.chrome.options import Options\n",
        "options = Options()\n",
        "options.add_argument('--headless')\n",
        "options.add_argument('--no-sandbox')\n",
        "options.add_argument('--disable-dev-shm-usage')\n",
        "driver = webdriver.Chrome(options=options)\n",
        "driver.implicitly_wait(100)"
      ]
    },
    {
      "cell_type": "code",
      "execution_count": 34,
      "metadata": {
        "id": "tCkrn3R6eZR1"
      },
      "outputs": [],
      "source": [
        "import pickle"
      ]
    },
    {
      "cell_type": "code",
      "execution_count": 35,
      "metadata": {
        "id": "pQJo4xvZTLAj"
      },
      "outputs": [],
      "source": [
        "from selenium import webdriver\n",
        "from selenium.webdriver.common.by import By\n",
        "from selenium.webdriver.chrome.options import Options\n",
        "from selenium.webdriver.support.ui import WebDriverWait\n",
        "from selenium.webdriver.support import expected_conditions as EC\n",
        "\n",
        "# 打开登录页面\n",
        "driver.get(\"https://www.wkinfo.com.cn/login/index\")\n",
        "\n",
        "# 设置显式等待\n",
        "wait = WebDriverWait(driver, 110)"
      ]
    },
    {
      "cell_type": "code",
      "execution_count": 36,
      "metadata": {
        "id": "-1NQfiJniM3P"
      },
      "outputs": [],
      "source": [
        "# 等待用户名输入框可交互并输入用户名\n",
        "username_box = wait.until(EC.element_to_be_clickable((By.ID, \"firstname\")))\n",
        "username_box.send_keys(wkxx_username)\n",
        "\n",
        "# 同样等待密码输入框并输入密码\n",
        "password_box = wait.until(EC.element_to_be_clickable((By.ID, \"lastname\")))\n",
        "password_box.send_keys(wkxx_password)\n",
        "\n",
        "# 点击登录按钮\n",
        "login_button = wait.until(EC.element_to_be_clickable((By.CSS_SELECTOR, \".btn.btn-sign\")))\n",
        "login_button.click()"
      ]
    },
    {
      "cell_type": "code",
      "execution_count": 37,
      "metadata": {
        "id": "ZXysp6Poed34"
      },
      "outputs": [],
      "source": [
        "# 保存 cookies 到文件\n",
        "pickle.dump(driver.get_cookies(), open(\"cookies.pkl\", \"wb\"))"
      ]
    },
    {
      "cell_type": "code",
      "execution_count": 38,
      "metadata": {
        "colab": {
          "base_uri": "https://localhost:8080/"
        },
        "id": "soTsVjJEuNwB",
        "outputId": "8c00d048-dad3-41df-8169-ebe50f33b2eb"
      },
      "outputs": [
        {
          "data": {
            "text/plain": [
              "<selenium.webdriver.remote.webelement.WebElement (session=\"c5b2c64e153afdf514f54808dc060e10\", element=\"69A261F89FE90878B063CBB5F03BBFAC_element_38\")>"
            ]
          },
          "execution_count": 38,
          "metadata": {},
          "output_type": "execute_result"
        }
      ],
      "source": [
        "wait.until(EC.presence_of_element_located((By.ID, \"wkb-search-tools\")))"
      ]
    },
    {
      "cell_type": "code",
      "execution_count": 39,
      "metadata": {
        "id": "_gyyfn0kPCNF"
      },
      "outputs": [],
      "source": [
        "# 加载并设置 cookies\n",
        "for cookie in pickle.load(open(\"cookies.pkl\", \"rb\")):\n",
        "    driver.add_cookie(cookie)\n",
        "\n",
        "driver.get(\"https://law.wkinfo.com.cn/\")\n",
        "# 设置显式等待\n",
        "wait = WebDriverWait(driver, 100)"
      ]
    },
    {
      "cell_type": "code",
      "execution_count": 40,
      "metadata": {
        "colab": {
          "base_uri": "https://localhost:8080/"
        },
        "id": "viUzgCqgfAoo",
        "outputId": "a81ec3f9-8f3a-4c53-c6f4-6a50924eb64b"
      },
      "outputs": [
        {
          "name": "stdout",
          "output_type": "stream",
          "text": [
            "元素存在\n"
          ]
        }
      ],
      "source": [
        "try:\n",
        "    # 尝试定位元素\n",
        "    search_button = driver.find_element(By.CSS_SELECTOR, \".cg-button-field-1-8-0\")\n",
        "    print(\"元素存在\")\n",
        "except NoSuchElementException:\n",
        "    # 如果元素不存在，捕获 NoSuchElementException 异常\n",
        "    print(\"元素不存在\")"
      ]
    },
    {
      "cell_type": "code",
      "execution_count": 41,
      "metadata": {
        "id": "iHr7-NUlp7zN"
      },
      "outputs": [],
      "source": [
        "asked_question = '侵权'"
      ]
    },
    {
      "cell_type": "code",
      "execution_count": 42,
      "metadata": {
        "id": "-Zd82XGxSPgj"
      },
      "outputs": [],
      "source": [
        "# 定位搜索框并输入搜索内容\n",
        "search_box = wait.until(EC.element_to_be_clickable((By.ID, \"keyword\")))\n",
        "search_box.send_keys(asked_question)\n",
        "# for char in \"著作权 AND 案例 AND 赔偿标准\":\n",
        "#     search_box.send_keys(char)\n",
        "#     time.sleep(0.2)  # 等待0.1秒\n",
        "\n",
        "# # 定位搜索按钮并点击\n",
        "wait = WebDriverWait(driver, 10)\n",
        "# search_button = wait.until(EC.element_to_be_clickable((By.CSS_SELECTOR, \".wk-banner-action-bar-item.wk-button.wkb-btn-green\")))\n",
        "# search_button.click()\n",
        "search_button = driver.find_element(By.CSS_SELECTOR, \".wk-banner-action-bar-item.wk-button.wkb-btn-green\")\n",
        "driver.execute_script(\"arguments[0].scrollIntoView(true); arguments[0].click();\", search_button)\n"
      ]
    },
    {
      "cell_type": "code",
      "execution_count": 43,
      "metadata": {
        "id": "Mn1Ws31VSaeV"
      },
      "outputs": [],
      "source": [
        "# 设置显式等待\n",
        "wait = WebDriverWait(driver, 10)"
      ]
    },
    {
      "cell_type": "code",
      "execution_count": 44,
      "metadata": {
        "id": "kWhG6nOWkxlB"
      },
      "outputs": [],
      "source": [
        "# driver.current_url"
      ]
    },
    {
      "cell_type": "code",
      "execution_count": 45,
      "metadata": {
        "colab": {
          "base_uri": "https://localhost:8080/"
        },
        "id": "B7Th7jN7l4tO",
        "outputId": "2d967830-4431-478b-c357-add38a2976f4"
      },
      "outputs": [
        {
          "name": "stdout",
          "output_type": "stream",
          "text": [
            "元素存在\n"
          ]
        }
      ],
      "source": [
        "# 设置最长等待时间为4秒\n",
        "wait = WebDriverWait(driver, 8)\n",
        "\n",
        "try:\n",
        "    # 尝试在4秒内定位元素\n",
        "    search_button = wait.until(EC.presence_of_element_located((By.CSS_SELECTOR, \".titleHL\")))\n",
        "    print(\"元素存在\")\n",
        "except TimeoutException:\n",
        "    # 如果在4秒内没有找到元素，捕获 TimeoutException 异常\n",
        "    print(\"元素不存在\")"
      ]
    },
    {
      "cell_type": "code",
      "execution_count": 46,
      "metadata": {
        "id": "q3MUYMQhTtGr"
      },
      "outputs": [],
      "source": [
        "# 等待搜索结果的容器加载\n",
        "wait.until(EC.presence_of_element_located((By.CSS_SELECTOR, \".wkb-list-docs-list\")))\n",
        "\n",
        "# 获取包含特定类 \"titleHL\" 的所有链接\n",
        "links_with_titleHL = driver.find_elements(By.CSS_SELECTOR, \"a .titleHL\")\n",
        "\n",
        "# 提取这些链接的 href 属性\n",
        "urls = [link.find_element(By.XPATH, \"..\").get_attribute('href') for link in links_with_titleHL][:3]"
      ]
    },
    {
      "cell_type": "code",
      "execution_count": 47,
      "metadata": {
        "colab": {
          "base_uri": "https://localhost:8080/"
        },
        "id": "OFlPzd8gWqRQ",
        "outputId": "088c6de5-5c9a-4e4d-8d81-eda8106de638"
      },
      "outputs": [
        {
          "name": "stdout",
          "output_type": "stream",
          "text": [
            "https://law.wkinfo.com.cn/legislation/detail/MTAwMDAwNzI3MjQ%3D?searchId=214825b80e854a46a160329d57bb25d4&index=1&q=%E4%BE%B5%E6%9D%83&module=&childModule=all\n",
            "https://law.wkinfo.com.cn/legislation/detail/MTAxMDAxMzMyMTI%3D?searchId=214825b80e854a46a160329d57bb25d4&index=2&q=%E4%BE%B5%E6%9D%83&module=&childModule=all\n",
            "https://law.wkinfo.com.cn/legislation/detail/MTAxMDAxMzA0NTc%3D?searchId=214825b80e854a46a160329d57bb25d4&index=3&q=%E4%BE%B5%E6%9D%83&module=&childModule=all\n",
            "['https://law.wkinfo.com.cn/legislation/detail/MTAwMDAwNzI3MjQ%3D?searchId=214825b80e854a46a160329d57bb25d4&index=1&q=%E4%BE%B5%E6%9D%83&module=&childModule=all', 'https://law.wkinfo.com.cn/legislation/detail/MTAxMDAxMzMyMTI%3D?searchId=214825b80e854a46a160329d57bb25d4&index=2&q=%E4%BE%B5%E6%9D%83&module=&childModule=all', 'https://law.wkinfo.com.cn/legislation/detail/MTAxMDAxMzA0NTc%3D?searchId=214825b80e854a46a160329d57bb25d4&index=3&q=%E4%BE%B5%E6%9D%83&module=&childModule=all']\n"
          ]
        }
      ],
      "source": [
        "# 输出前三个链接\n",
        "for url in urls:\n",
        "    print(url)\n",
        "\n",
        "print(urls)"
      ]
    },
    {
      "cell_type": "markdown",
      "metadata": {
        "id": "2nbbSMTQBXG7"
      },
      "source": [
        "# 保存结果"
      ]
    },
    {
      "cell_type": "code",
      "execution_count": 71,
      "metadata": {
        "colab": {
          "base_uri": "https://localhost:8080/"
        },
        "id": "xaYg72XrCptl",
        "outputId": "493cc569-e5ed-4bae-cc67-d036cea39ba4"
      },
      "outputs": [
        {
          "name": "stdout",
          "output_type": "stream",
          "text": [
            "Requirement already satisfied: html2text in /usr/local/lib/python3.10/dist-packages (2020.1.16)\n"
          ]
        }
      ],
      "source": [
        "pip install html2text"
      ]
    },
    {
      "cell_type": "code",
      "execution_count": 70,
      "metadata": {
        "colab": {
          "base_uri": "https://localhost:8080/",
          "height": 387
        },
        "id": "HNeLNOt_DLoE",
        "outputId": "d39ab3dc-4112-4c87-9389-c189f36346e5"
      },
      "outputs": [
        {
          "name": "stdout",
          "output_type": "stream",
          "text": [
            "Collecting playwright\n",
            "  Downloading playwright-1.39.0-py3-none-manylinux1_x86_64.whl (35.5 MB)\n",
            "\u001b[2K     \u001b[90m━━━━━━━━━━━━━━━━━━━━━━━━━━━━━━━━━━━━━━━━\u001b[0m \u001b[32m35.5/35.5 MB\u001b[0m \u001b[31m19.0 MB/s\u001b[0m eta \u001b[36m0:00:00\u001b[0m\n",
            "\u001b[?25hCollecting greenlet==3.0.0 (from playwright)\n",
            "  Downloading greenlet-3.0.0-cp310-cp310-manylinux_2_24_x86_64.manylinux_2_28_x86_64.whl (612 kB)\n",
            "\u001b[2K     \u001b[90m━━━━━━━━━━━━━━━━━━━━━━━━━━━━━━━━━━━━━━━━\u001b[0m \u001b[32m612.9/612.9 kB\u001b[0m \u001b[31m24.7 MB/s\u001b[0m eta \u001b[36m0:00:00\u001b[0m\n",
            "\u001b[?25hCollecting pyee==11.0.1 (from playwright)\n",
            "  Downloading pyee-11.0.1-py3-none-any.whl (15 kB)\n",
            "Requirement already satisfied: typing-extensions in /usr/local/lib/python3.10/dist-packages (from pyee==11.0.1->playwright) (4.5.0)\n",
            "Installing collected packages: pyee, greenlet, playwright\n",
            "  Attempting uninstall: greenlet\n",
            "    Found existing installation: greenlet 3.0.1\n",
            "    Uninstalling greenlet-3.0.1:\n",
            "      Successfully uninstalled greenlet-3.0.1\n",
            "Successfully installed greenlet-3.0.0 playwright-1.39.0 pyee-11.0.1\n"
          ]
        },
        {
          "data": {
            "application/vnd.colab-display-data+json": {
              "pip_warning": {
                "packages": [
                  "greenlet"
                ]
              }
            }
          },
          "metadata": {},
          "output_type": "display_data"
        }
      ],
      "source": [
        "pip install playwright"
      ]
    },
    {
      "cell_type": "code",
      "execution_count": 78,
      "metadata": {
        "id": "GemB2xATBDzV"
      },
      "outputs": [],
      "source": [
        "urls=['https://law.wkinfo.com.cn/legislation/detail/MTAwMDAwNzI3MjQ%3D?searchId=214825b80e854a46a160329d57bb25d4&index=1&q=%E4%BE%B5%E6%9D%83&module=&childModule=all', 'https://law.wkinfo.com.cn/legislation/detail/MTAxMDAxMzMyMTI%3D?searchId=214825b80e854a46a160329d57bb25d4&index=2&q=%E4%BE%B5%E6%9D%83&module=&childModule=all', 'https://law.wkinfo.com.cn/legislation/detail/MTAxMDAxMzA0NTc%3D?searchId=214825b80e854a46a160329d57bb25d4&index=3&q=%E4%BE%B5%E6%9D%83&module=&childModule=all']"
      ]
    },
    {
      "cell_type": "code",
      "execution_count": null,
      "metadata": {
        "id": "e_17bF2gX2xZ"
      },
      "outputs": [],
      "source": [
        "from langchain.document_loaders import AsyncHtmlLoader\n",
        "\n",
        "loader = AsyncHtmlLoader(urls[0])\n",
        "docs = loader.load()\n",
        "# docs"
      ]
    },
    {
      "cell_type": "code",
      "execution_count": 76,
      "metadata": {
        "colab": {
          "base_uri": "https://localhost:8080/"
        },
        "id": "-XZdJcGzGakG",
        "outputId": "61fda66c-9f92-43be-ae33-6885520ff7a4"
      },
      "outputs": [
        {
          "name": "stdout",
          "output_type": "stream",
          "text": [
            "网页内容中并未提供中华人民共和国侵权责任法第一章第一条的相关信息。\n"
          ]
        }
      ],
      "source": [
        "from langchain.prompts import PromptTemplate\n",
        "from langchain.llms import OpenAI\n",
        "from langchain.chains import LLMRequestsChain, LLMChain\n",
        "import os\n",
        "\n",
        "\n",
        "import warnings\n",
        "warnings.filterwarnings(\"ignore\")\n",
        "model_name = \"gpt-4\"\n",
        "task_url = urls[0]\n",
        "llm = OpenAI(model_name=model_name, temperature=0)\n",
        "\n",
        "template = \"\"\"在 >>> 和 <<< 之间是网页的返回的HTML内容。\n",
        "\n",
        ">>> {requests_result} <<<\n",
        "\n",
        "根据网页内容，回答问题:{query}。\"\"\"\n",
        "\n",
        "prompt = PromptTemplate(\n",
        "    input_variables=[\"requests_result\", \"query\"],\n",
        "    template=template\n",
        ")\n",
        "\n",
        "chain = LLMRequestsChain(llm_chain=LLMChain(llm=llm, prompt=prompt))\n",
        "inputs = {\n",
        "  \"url\": task_url,\n",
        "  \"query\":\"中华人民共和国侵权责任法第一章第一条是什么，用中文回答\",\n",
        "}\n",
        "\n",
        "response = chain(inputs)\n",
        "print(response['output'])\n"
      ]
    },
    {
      "cell_type": "code",
      "execution_count": 81,
      "metadata": {
        "id": "OCkzG7lyI9O3"
      },
      "outputs": [],
      "source": [
        "driver.get(urls[0])\n",
        "\n",
        "# 获取并打印网页源代码\n",
        "content = driver.page_source\n",
        "# print(content)"
      ]
    },
    {
      "cell_type": "code",
      "execution_count": 87,
      "metadata": {
        "id": "VXOYJrm9PiBw"
      },
      "outputs": [],
      "source": [
        "from langchain.chat_models import ChatOpenAI\n",
        "from langchain.agents import load_tools, initialize_agent\n",
        "from langchain.agents import AgentType\n",
        "from langchain.tools import AIPluginTool"
      ]
    },
    {
      "cell_type": "markdown",
      "metadata": {
        "id": "jbtC5yOhEdDE"
      },
      "source": [
        "# backup"
      ]
    },
    {
      "cell_type": "code",
      "execution_count": null,
      "metadata": {
        "id": "w5V6QVijT-oR"
      },
      "outputs": [],
      "source": [
        "# # 检查是否有搜索结果\n",
        "# search_results = driver.find_elements(By.CSS_SELECTOR, \".wkb-list-docs-list .ng-star-inserted a[href]\")\n",
        "\n",
        "# if search_results:\n",
        "#     print(\"找到搜索结果，提取前三个链接。\")\n",
        "#     # 提取前三个搜索结果的链接\n",
        "#     top_three_links = [result.get_attribute('href') for result in search_results[:3]]\n",
        "\n",
        "#     # 遍历并访问这些链接\n",
        "#     for link in top_three_links:\n",
        "#         # driver.get(link)\n",
        "#         print(link)\n",
        "#         # ... 在此处执行您想要的操作 ...\n",
        "# else:\n",
        "#     print(\"没有找到搜索结果。\")"
      ]
    }
  ],
  "metadata": {
    "colab": {
      "collapsed_sections": [
        "L0iZ2DxzSte7",
        "jbtC5yOhEdDE"
      ],
      "provenance": []
    },
    "kernelspec": {
      "display_name": "Python 3",
      "name": "python3"
    },
    "language_info": {
      "name": "python"
    }
  },
  "nbformat": 4,
  "nbformat_minor": 0
}
